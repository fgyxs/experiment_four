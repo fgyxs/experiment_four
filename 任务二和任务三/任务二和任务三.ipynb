{
 "cells": [
  {
   "cell_type": "code",
   "execution_count": 7,
   "metadata": {},
   "outputs": [],
   "source": [
    "import pyspark\n",
    "import pandas as pd\n",
    "from pyspark.sql import functions as F"
   ]
  },
  {
   "cell_type": "code",
   "execution_count": 2,
   "metadata": {},
   "outputs": [],
   "source": [
    "from pyspark import SparkContext\n",
    "from pyspark.sql import SQLContext\n",
    "sc = SparkContext()\n",
    "sqlContext = SQLContext(sc)\n",
    "df = sqlContext.read.format('com.databricks.spark.csv').options(header='true', inferschema='true').load(\"train_data .csv\")\n"
   ]
  },
  {
   "cell_type": "code",
   "execution_count": 2,
   "metadata": {
    "scrolled": true
   },
   "outputs": [
    {
     "name": "stdout",
     "output_type": "stream",
     "text": [
      "+-------+-------+----------+------------+--------+---------------+-----+---------+---------+--------------+------------------------------+---------+-----------+-----------------+-------------+--------+----------+----------+---+---------+------+---------------+--------------+-----------+------------+----------------+------------+-------------------+------------------------+----------+----------+-------------------+------------------+-------+-----------+----+----+----+----+----+----+----------+\n",
      "|loan_id|user_id|total_loan|year_of_loan|interest|monthly_payment|class|sub_class|work_type| employer_type|                      industry|work_year|house_exist|house_loan_status|censor_status|marriage|offsprings|issue_date|use|post_code|region|debt_loan_ratio|del_in_18month|scoring_low|scoring_high|pub_dero_bankrup|early_return|early_return_amount|early_return_amount_3mon|recircle_b|recircle_u|initial_list_status|earlies_credit_mon|  title|policy_code|  f0|  f1|  f2|  f3|  f4|  f5|is_default|\n",
      "+-------+-------+----------+------------+--------+---------------+-----+---------+---------+--------------+------------------------------+---------+-----------+-----------------+-------------+--------+----------+----------+---+---------+------+---------------+--------------+-----------+------------+----------------+------------+-------------------+------------------------+----------+----------+-------------------+------------------+-------+-----------+----+----+----+----+----+----+----------+\n",
      "| 119262|      0|   12000.0|           5|   11.53|          264.1|    B|       B5|     职员|      普通企业|                        采矿业|     null|          0|                0|            2|       0|         0|2015-06-01|  0|    814.0|     4|           5.07|           1.0|      670.0|       674.0|             1.0|           0|                  0|                     0.0|    3855.0|      23.1|                  0|          Mar-1984|    0.0|        1.0| 1.0| 0.0| 8.0|17.0| 8.0| 1.0|         1|\n",
      "| 369815|      1|    8000.0|           3|   13.98|         273.35|    C|       C3|     其他|      普通企业|                      国际组织|10+ years|          0|                1|            2|       1|         3|2010-10-01|  2|    240.0|    21|          15.04|           0.0|      725.0|       729.0|             0.0|           0|                  0|                     0.0|  118632.0|      99.9|                  1|          Jan-1992|   94.0|        1.0|null|null|null|null|null|null|         0|\n",
      "| 787833|      2|   20000.0|           5|   17.99|         507.76|    D|       D2|     工人|      上市企业|信息传输、软件和信息技术服务业|10+ years|          0|                0|            1|       0|         0|2016-08-01|  0|    164.0|    20|          17.38|           1.0|      675.0|       679.0|             0.0|           0|                  0|                     0.0|   15670.0|      72.5|                  0|          Oct-1996|    0.0|        1.0| 6.0| 0.0|10.0| 8.0| 3.0| 0.0|         0|\n",
      "| 671675|      3|   10700.0|           3|   10.16|         346.07|    B|       B1|     职员|      普通企业|          电力、热力生产供应业|  2 years|          2|                0|            2|       0|         0|2013-05-01|  4|     48.0|    10|          27.87|           0.0|      710.0|       714.0|             0.0|           0|                  0|                     0.0|   18859.0|      78.6|                  0|          Jul-2000|41646.0|        1.0| 3.0| 0.0| 4.0|11.0| 6.0| 0.0|         0|\n",
      "| 245160|      4|    8000.0|           3|    8.24|         251.58|    B|       B1|     其他|      政府机构|                        金融业|  5 years|          1|                2|            0|       0|         0|2017-04-01|  4|    122.0|     9|           3.47|           0.0|      660.0|       664.0|             0.0|           0|                  0|                     0.0|    8337.0|      67.8|                  1|          Mar-2000|    4.0|        1.0| 3.0| 0.0| 8.0| 6.0| 4.0| 1.0|         0|\n",
      "| 647107|      5|   28000.0|           3|   15.59|         978.74|    C|       C5|     职员|幼教与中小学校|            公共服务、社会组织|10+ years|          2|                0|            2|       0|         0|2016-08-01|  0|    149.0|    22|          24.33|           0.0|      680.0|       684.0|             0.0|           0|                  0|                     0.0|   40727.0|      88.6|                  0|          May-2002|    0.0|        1.0| 3.0| 0.0| 6.0|10.0| 3.0| 1.0|         1|\n",
      "| 289151|      6|    6000.0|           3|    7.89|         187.72|    A|       A5|     职员|      政府机构|信息传输、软件和信息技术服务业|  8 years|          0|                1|            0|       0|         0|2015-07-01|  0|    634.0|    32|           8.43|           0.0|      710.0|       714.0|             0.0|           0|                  0|                     0.0|     724.0|      14.2|                  1|          Aug-2000|    0.0|        1.0| 3.0| 0.0|13.0| 5.0| 5.0| 1.0|         0|\n",
      "| 750155|      7|   20000.0|           3|   12.79|         671.86|    C|       C1|   工程师|      上市企业|                        金融业|10+ years|          0|                0|            2|       0|         0|2016-07-01|  0|    197.0|     4|          19.48|           0.0|      690.0|       694.0|             0.0|           0|                  0|                     0.0|   16694.0|      71.6|                  0|          Oct-2005|    0.0|        1.0| 8.0| 0.0| 3.0|12.0| 8.0| 0.0|         0|\n",
      "| 387697|      8|    9450.0|           3|   13.11|         318.91|    B|       B4|     工人|      政府机构|信息传输、软件和信息技术服务业|  2 years|          0|                0|            0|       1|         0|2012-08-01|  4|     19.0|    14|          18.64|           0.0|      705.0|       709.0|             0.0|           0|                  0|                     0.0|   14291.0|      66.5|                  1|          Apr-2001|  847.0|        1.0|null|null|null|null|null|null|         0|\n",
      "| 186940|      9|    4500.0|           3|    5.32|         135.52|    A|       A1|     其他|  高等教育机构|                  文化和体育业|10+ years|          0|                0|            0|       1|         0|2017-02-01|  9|    468.0|     0|            7.4|           0.0|      805.0|       809.0|             0.0|           0|                  0|                     0.0|    1623.0|      10.5|                  0|          Sep-1992|   10.0|        1.0| 2.0| 0.0| 9.0| 8.0| 2.0| 0.0|         0|\n",
      "| 740415|     10|   21850.0|           3|   11.44|         719.91|    B|       B4|     职员|    世界五百强|                        建筑业|10+ years|          0|                0|            2|       1|         3|2016-11-01|  0|    466.0|    36|          27.67|           0.0|      725.0|       729.0|             0.0|          14|                840|      183.73377634804947|  501094.0|      53.2|                  0|          Feb-1986|    0.0|        1.0| 3.0| 0.0|14.0| 6.0| 2.0| 0.0|         0|\n",
      "| 573270|     11|   10500.0|           3|   10.99|         343.71|    B|       B4|     职员|      政府机构|信息传输、软件和信息技术服务业|  3 years|          1|                1|            1|       1|         0|2015-04-01|  0|     33.0|    22|          17.49|           0.0|      705.0|       709.0|             0.0|           0|                  0|                     0.0|   14325.0|      74.6|                  0|          Aug-2004|    0.0|        1.0| 9.0| 0.0| 3.0|15.0| 8.0| 0.0|         0|\n",
      "| 607714|     12|   22000.0|           3|   15.61|         769.23|    D|       D1|     其他|      政府机构|                  文化和体育业|   1 year|          0|                0|            1|       1|         0|2015-03-01|  0|    765.0|    39|          27.49|           0.0|      680.0|       684.0|             1.0|           0|                  0|                     0.0|   23455.0|      29.8|                  1|          Jul-1996|    0.0|        1.0|13.0| 0.0| 5.0|39.0|19.0| 0.0|         0|\n",
      "| 405331|     13|    9600.0|           3|    8.18|         301.63|    B|       B1|     职员|      普通企业|                        金融业| < 1 year|          1|                1|            1|       0|         0|2015-08-01|  4|    157.0|     8|          18.73|           0.0|      680.0|       684.0|             0.0|           0|                  0|                     0.0|    7038.0|      58.6|                  0|          Feb-2001|    4.0|        1.0| 8.0| 0.0| 4.0| 8.0| 3.0| 0.0|         1|\n",
      "| 477316|     14|   16000.0|           5|   14.99|         380.56|    C|       C4|   公务员|幼教与中小学校|                  住宿和餐饮业|  4 years|          0|                1|            1|       0|         0|2017-04-01|  0|    152.0|    14|          16.52|           0.0|      690.0|       694.0|             0.0|           0|                  0|                     0.0|   11375.0|      35.0|                  0|          Oct-1993|    0.0|        1.0| 7.0|null| 5.0|17.0| 8.0| 0.0|         0|\n",
      "| 325317|     15|   17075.0|           5|   18.55|         438.72|    E|       E2|     其他|      普通企业|                        建筑业|  7 years|          0|                1|            1|       0|         0|2015-08-01|  0|    195.0|    38|          34.07|           0.0|      695.0|       699.0|             0.0|           0|                  0|                     0.0|   28938.0|      70.2|                  0|          Jan-1985|    0.0|        1.0| 6.0| 0.0| 7.0|18.0| 8.0| 0.0|         1|\n",
      "| 487138|     16|   28675.0|           3|   13.18|         968.67|    C|       C3|     其他|      普通企业|          电力、热力生产供应业|10+ years|          1|                1|            2|       0|         0|2015-11-01|  0|    156.0|    18|          17.69|           1.0|      675.0|       679.0|             0.0|           0|                  0|                     0.0|   45154.0|      62.3|                  1|          Oct-1992|    0.0|        1.0| 4.0| 0.0|12.0| 8.0| 4.0| 0.0|         1|\n",
      "| 772918|     17|    5925.0|           3|   13.49|         201.04|    C|       C2|     其他|    世界五百强|                  住宿和餐饮业|10+ years|          1|                0|            0|       1|         0|2016-10-01|  4|    163.0|    21|          11.52|           1.0|      670.0|       674.0|             0.0|           0|                  0|                     0.0|    9192.0|      62.1|                  0|          Jan-1997|    4.0|        1.0| 6.0| 0.0| 5.0| 8.0| 6.0| 2.0|         0|\n",
      "| 470805|     18|   12000.0|           5|   14.99|         285.42|    C|       C4|   公务员|      普通企业|                      国际组织|10+ years|          0|                0|            1|       1|         5|2016-11-01|  0|    512.0|    21|          13.79|           0.0|      675.0|       679.0|             1.0|           0|                  0|                     0.0|    9060.0|      41.6|                  0|          May-1998|    0.0|        1.0| 8.0| 0.0| 5.0|17.0|10.0| 4.0|         0|\n",
      "| 402970|     19|    9600.0|           3|    7.91|         300.44|    A|       A5|     其他|      普通企业|            公共服务、社会组织|  4 years|          1|                0|            2|       1|         5|2016-01-01|  0|    108.0|    21|          12.14|           0.0|      675.0|       679.0|             0.0|           0|                  0|                     0.0|   18811.0|      80.4|                  0|          Dec-1996|    0.0|        1.0| 7.0| 0.0| 6.0|10.0| 7.0| 0.0|         1|\n",
      "+-------+-------+----------+------------+--------+---------------+-----+---------+---------+--------------+------------------------------+---------+-----------+-----------------+-------------+--------+----------+----------+---+---------+------+---------------+--------------+-----------+------------+----------------+------------+-------------------+------------------------+----------+----------+-------------------+------------------+-------+-----------+----+----+----+----+----+----+----------+\n",
      "only showing top 20 rows\n",
      "\n"
     ]
    }
   ],
   "source": [
    "df.show()"
   ]
  },
  {
   "cell_type": "code",
   "execution_count": 3,
   "metadata": {
    "scrolled": true
   },
   "outputs": [
    {
     "name": "stdout",
     "output_type": "stream",
     "text": [
      "root\n",
      " |-- loan_id: integer (nullable = true)\n",
      " |-- user_id: integer (nullable = true)\n",
      " |-- total_loan: double (nullable = true)\n",
      " |-- year_of_loan: integer (nullable = true)\n",
      " |-- interest: double (nullable = true)\n",
      " |-- monthly_payment: double (nullable = true)\n",
      " |-- class: string (nullable = true)\n",
      " |-- sub_class: string (nullable = true)\n",
      " |-- work_type: string (nullable = true)\n",
      " |-- employer_type: string (nullable = true)\n",
      " |-- industry: string (nullable = true)\n",
      " |-- work_year: string (nullable = true)\n",
      " |-- house_exist: integer (nullable = true)\n",
      " |-- house_loan_status: integer (nullable = true)\n",
      " |-- censor_status: integer (nullable = true)\n",
      " |-- marriage: integer (nullable = true)\n",
      " |-- offsprings: integer (nullable = true)\n",
      " |-- issue_date: string (nullable = true)\n",
      " |-- use: integer (nullable = true)\n",
      " |-- post_code: double (nullable = true)\n",
      " |-- region: integer (nullable = true)\n",
      " |-- debt_loan_ratio: double (nullable = true)\n",
      " |-- del_in_18month: double (nullable = true)\n",
      " |-- scoring_low: double (nullable = true)\n",
      " |-- scoring_high: double (nullable = true)\n",
      " |-- pub_dero_bankrup: double (nullable = true)\n",
      " |-- early_return: integer (nullable = true)\n",
      " |-- early_return_amount: integer (nullable = true)\n",
      " |-- early_return_amount_3mon: double (nullable = true)\n",
      " |-- recircle_b: double (nullable = true)\n",
      " |-- recircle_u: double (nullable = true)\n",
      " |-- initial_list_status: integer (nullable = true)\n",
      " |-- earlies_credit_mon: string (nullable = true)\n",
      " |-- title: double (nullable = true)\n",
      " |-- policy_code: double (nullable = true)\n",
      " |-- f0: double (nullable = true)\n",
      " |-- f1: double (nullable = true)\n",
      " |-- f2: double (nullable = true)\n",
      " |-- f3: double (nullable = true)\n",
      " |-- f4: double (nullable = true)\n",
      " |-- f5: double (nullable = true)\n",
      " |-- is_default: integer (nullable = true)\n",
      "\n"
     ]
    }
   ],
   "source": [
    "df.printSchema() "
   ]
  },
  {
   "cell_type": "code",
   "execution_count": 6,
   "metadata": {
    "scrolled": false
   },
   "outputs": [
    {
     "name": "stdout",
     "output_type": "stream",
     "text": [
      "+-------+------------------+-----------------+\n",
      "|summary|           loan_id|       total_loan|\n",
      "+-------+------------------+-----------------+\n",
      "|  count|            300000|           300000|\n",
      "|   mean|      399478.20423|      14399.20875|\n",
      "| stddev|230869.13514231675|8709.179953286352|\n",
      "|    min|                 0|            500.0|\n",
      "|    max|            799999|          40000.0|\n",
      "+-------+------------------+-----------------+\n",
      "\n"
     ]
    }
   ],
   "source": [
    "df[\"loan_id\",\"total_loan\"].describe().show()"
   ]
  },
  {
   "cell_type": "code",
   "execution_count": 12,
   "metadata": {
    "scrolled": true
   },
   "outputs": [
    {
     "name": "stdout",
     "output_type": "stream",
     "text": [
      "between 0 and 1000  total loan: 2\n",
      "between 1000 and 2000  total loan: 4043\n",
      "between 2000 and 3000  total loan: 6341\n",
      "between 3000 and 4000  total loan: 9317\n",
      "between 4000 and 5000  total loan: 10071\n",
      "between 5000 and 6000  total loan: 16514\n",
      "between 6000 and 7000  total loan: 15961\n",
      "between 7000 and 8000  total loan: 12789\n",
      "between 8000 and 9000  total loan: 16384\n",
      "between 9000 and 10000  total loan: 10458\n",
      "between 10000 and 11000  total loan: 27170\n",
      "between 11000 and 12000  total loan: 7472\n",
      "between 12000 and 13000  total loan: 20513\n",
      "between 13000 and 14000  total loan: 5928\n",
      "between 14000 and 15000  total loan: 8888\n",
      "between 15000 and 16000  total loan: 18612\n",
      "between 16000 and 17000  total loan: 11277\n",
      "between 17000 and 18000  total loan: 4388\n",
      "between 18000 and 19000  total loan: 9342\n",
      "between 19000 and 20000  total loan: 4077\n",
      "between 20000 and 21000  total loan: 17612\n",
      "between 21000 and 22000  total loan: 5507\n",
      "between 22000 and 23000  total loan: 3544\n",
      "between 23000 and 24000  total loan: 2308\n",
      "between 24000 and 25000  total loan: 8660\n",
      "between 25000 and 26000  total loan: 8813\n",
      "between 26000 and 27000  total loan: 1604\n",
      "between 27000 and 28000  total loan: 1645\n",
      "between 28000 and 29000  total loan: 5203\n",
      "between 29000 and 30000  total loan: 1144\n",
      "between 30000 and 31000  total loan: 6864\n",
      "between 31000 and 32000  total loan: 752\n",
      "between 32000 and 33000  total loan: 1887\n",
      "between 33000 and 34000  total loan: 865\n",
      "between 34000 and 35000  total loan: 587\n",
      "between 35000 and 36000  total loan: 11427\n",
      "between 36000 and 37000  total loan: 364\n",
      "between 37000 and 38000  total loan: 59\n",
      "between 38000 and 39000  total loan: 85\n",
      "between 39000 and 40000  total loan: 30\n",
      "between 40000 and 41000  total loan: 1493\n"
     ]
    }
   ],
   "source": [
    "count_num = 0\n",
    "for i in range(0,41000,1000):\n",
    "    temp_df = df.select(df.total_loan.between(i,i+999).alias(\"total_loan\"))\n",
    "    temp_df = temp_df.where(\"total_loan=1\")\n",
    "    count_num = temp_df.count()\n",
    "    print(\"between %d and %d  total loan: %d\"%(i,i+1000,count_num))\n"
   ]
  },
  {
   "cell_type": "code",
   "execution_count": 65,
   "metadata": {
    "scrolled": true
   },
   "outputs": [
    {
     "name": "stdout",
     "output_type": "stream",
     "text": [
      "['幼教与中小学校', '上市企业', '政府机构', '世界五百强', '高等教育机构', '普通企业']\n",
      "the class is 幼教与中小学校    the number is 0.099983\n",
      "the class is 上市企业    the number is 0.100127\n",
      "the class is 政府机构    the number is 0.258153\n",
      "the class is 世界五百强    the number is 0.053707\n",
      "the class is 高等教育机构    the number is 0.033687\n",
      "the class is 普通企业    the number is 0.454343\n"
     ]
    }
   ],
   "source": [
    "all_type = df.select(df.employer_type).distinct().toPandas()\n",
    "all_type = all_type['employer_type'].tolist()\n",
    "print(all_type)\n",
    "la = []\n",
    "lb = []\n",
    "for i in all_type:\n",
    "    temp_df = df.select(F.when(df.employer_type==i,1).otherwise(0).alias(\"employer_type\"))\n",
    "    temp_df = temp_df.where(\"employer_type=1\")\n",
    "    count_num = temp_df.count()\n",
    "    la.append(i)\n",
    "    lb.append(count_num)\n",
    "    print(\"the class is %s    the number is %f\"%(i,count_num/300000))\n",
    "dt = {'公司类型':la, '类型占比':lb}\n",
    "dt = pd.DataFrame(dt)\n",
    "dt.to_csv(\"公司类型.csv\")"
   ]
  },
  {
   "cell_type": "code",
   "execution_count": 66,
   "metadata": {
    "scrolled": true
   },
   "outputs": [
    {
     "name": "stdout",
     "output_type": "stream",
     "text": [
      "+-------+------------------+\n",
      "|user_id|       total_money|\n",
      "+-------+------------------+\n",
      "|      0|            3846.0|\n",
      "|      1|1840.6000000000004|\n",
      "|      2|10465.600000000002|\n",
      "|      3|1758.5200000000004|\n",
      "|      4| 1056.880000000001|\n",
      "|      5| 7234.639999999999|\n",
      "|      6| 757.9200000000001|\n",
      "|      7| 4186.959999999999|\n",
      "|      8|2030.7600000000002|\n",
      "|      9|378.72000000000116|\n",
      "|     10| 4066.760000000002|\n",
      "|     11|1873.5599999999977|\n",
      "|     12| 5692.279999999999|\n",
      "|     13|1258.6800000000003|\n",
      "|     14|6833.5999999999985|\n",
      "|     15| 9248.200000000004|\n",
      "|     16| 6197.119999999995|\n",
      "|     17|1312.4400000000005|\n",
      "|     18| 5125.200000000001|\n",
      "|     19|1215.8400000000001|\n",
      "+-------+------------------+\n",
      "only showing top 20 rows\n",
      "\n"
     ]
    }
   ],
   "source": [
    "df.withColumn(\"total_money\",df.year_of_loan*df.monthly_payment*12-df.total_loan).select('user_id','total_money').show()\n",
    "dt=df.withColumn(\"total_money\",df.year_of_loan*df.monthly_payment*12-df.total_loan).select('user_id','total_money').toPandas()\n",
    "dt.to_csv(\"total_moeny.csv\")"
   ]
  },
  {
   "cell_type": "code",
   "execution_count": 67,
   "metadata": {
    "scrolled": true
   },
   "outputs": [
    {
     "name": "stdout",
     "output_type": "stream",
     "text": [
      "['9 years', '7 years', '8 years', '6 years', '10+ years']\n",
      "+-------+-------------+---------+\n",
      "|user_id|censor_status|work_year|\n",
      "+-------+-------------+---------+\n",
      "|      1|            2|10+ years|\n",
      "|      2|            1|10+ years|\n",
      "|      5|            2|10+ years|\n",
      "|      6|            0|  8 years|\n",
      "|      7|            2|10+ years|\n",
      "|      9|            0|10+ years|\n",
      "|     10|            2|10+ years|\n",
      "|     15|            1|  7 years|\n",
      "|     16|            2|10+ years|\n",
      "|     17|            0|10+ years|\n",
      "|     18|            1|10+ years|\n",
      "|     20|            1|  7 years|\n",
      "|     21|            2|10+ years|\n",
      "|     25|            2|10+ years|\n",
      "|     26|            0|10+ years|\n",
      "|     30|            0|10+ years|\n",
      "|     31|            0|  6 years|\n",
      "|     33|            1|10+ years|\n",
      "|     38|            0|10+ years|\n",
      "|     39|            1|10+ years|\n",
      "+-------+-------------+---------+\n",
      "only showing top 20 rows\n",
      "\n"
     ]
    }
   ],
   "source": [
    "from pyspark.sql.functions import col\n",
    "all_type = df.select(df.work_year).distinct().toPandas()['work_year'].tolist()\n",
    "all_type.remove(None)\n",
    "all_type.remove('5 years')\n",
    "all_type.remove('1 year')\n",
    "all_type.remove('2 years')\n",
    "all_type.remove('4 years')\n",
    "all_type.remove('3 years')\n",
    "all_type.remove('< 1 year')\n",
    "print(all_type)\n",
    "\n",
    "temp_df = df.filter(col(\"work_year\").isin(all_type))\n",
    "temp_df.select('user_id','censor_status','work_year').show()\n",
    "dt = temp_df.select('user_id','censor_status','work_year').toPandas()\n",
    "dt.to_csv(\"censor.csv\")\n",
    "# all_type = df.select(df.censor_status).distinct().toPandas()['censor_status'].tolist()\n",
    "# print(all_type)\n",
    "# total_num = temp_df.count()\n",
    "# s_temp_df = temp_df.where(\"employer_type=1\")\n",
    "# num1 = s_temp_df.count()/total_num\n",
    "\n",
    "# temp_df = df.select(F.when(df.employer_type==1,1).when(df.employer_type==2,2).when(df.employer_type==3,3).alias(\"employer_type\"))"
   ]
  },
  {
   "cell_type": "code",
   "execution_count": null,
   "metadata": {},
   "outputs": [],
   "source": []
  }
 ],
 "metadata": {
  "kernelspec": {
   "display_name": "Python 3",
   "language": "python",
   "name": "python3"
  },
  "language_info": {
   "codemirror_mode": {
    "name": "ipython",
    "version": 3
   },
   "file_extension": ".py",
   "mimetype": "text/x-python",
   "name": "python",
   "nbconvert_exporter": "python",
   "pygments_lexer": "ipython3",
   "version": "3.7.6"
  }
 },
 "nbformat": 4,
 "nbformat_minor": 4
}
