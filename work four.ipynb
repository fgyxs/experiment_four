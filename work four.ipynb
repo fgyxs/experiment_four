{
 "cells": [
  {
   "cell_type": "code",
   "execution_count": 1,
   "metadata": {
    "scrolled": true
   },
   "outputs": [],
   "source": [
    "import pyspark\n",
    "import pandas as pd\n",
    "from pyspark.sql import functions as F\n",
    "from pyspark.sql import SQLContext\n",
    "from pyspark import SparkContext\n",
    "sc = SparkContext()\n",
    "sqlContext = SQLContext(sc)\n",
    "df = sqlContext.read.format('com.databricks.spark.csv').options(header='true', inferschema='true').load(\"train_data .csv\")\n",
    "\n",
    "df = df.select('total_loan','year_of_loan','interest','monthly_payment','is_default')"
   ]
  },
  {
   "cell_type": "code",
   "execution_count": 2,
   "metadata": {
    "scrolled": false
   },
   "outputs": [
    {
     "name": "stdout",
     "output_type": "stream",
     "text": [
      "+----------+------------+--------+---------------+----------+\n",
      "|total_loan|year_of_loan|interest|monthly_payment|is_default|\n",
      "+----------+------------+--------+---------------+----------+\n",
      "|    1000.0|           3|    6.62|          30.71|         1|\n",
      "|    1000.0|           3|    6.99|          30.88|         0|\n",
      "|    1000.0|           3|    7.35|          31.04|         0|\n",
      "|    1000.0|           3|     7.4|          31.06|         0|\n",
      "|    1000.0|           3|    7.69|           31.2|         0|\n",
      "+----------+------------+--------+---------------+----------+\n",
      "only showing top 5 rows\n",
      "\n"
     ]
    }
   ],
   "source": [
    "train, test = df.randomSplit([0.7, 0.3])\n",
    "train.show(5) #小数据集习惯性查看一下、我也不知道这习惯是好是坏\n"
   ]
  },
  {
   "cell_type": "code",
   "execution_count": 6,
   "metadata": {
    "scrolled": true
   },
   "outputs": [
    {
     "name": "stdout",
     "output_type": "stream",
     "text": [
      "+----------+------------+--------+---------------+----------+--------------------+-----+\n",
      "|total_loan|year_of_loan|interest|monthly_payment|is_default|            features|label|\n",
      "+----------+------------+--------+---------------+----------+--------------------+-----+\n",
      "|    1000.0|           3|    6.99|          30.88|         0|[1000.0,3.0,6.99,...|  0.0|\n",
      "|    1000.0|           3|    7.35|          31.04|         0|[1000.0,3.0,7.35,...|  0.0|\n",
      "|    1000.0|           3|     7.4|          31.06|         0|[1000.0,3.0,7.4,3...|  0.0|\n",
      "|    1000.0|           3|    7.88|          31.29|         0|[1000.0,3.0,7.88,...|  0.0|\n",
      "|    1000.0|           3|    7.89|          31.29|         0|[1000.0,3.0,7.89,...|  0.0|\n",
      "+----------+------------+--------+---------------+----------+--------------------+-----+\n",
      "only showing top 5 rows\n",
      "\n"
     ]
    }
   ],
   "source": [
    "from pyspark.ml.classification import LogisticRegression\n",
    "from pyspark.ml.feature import RFormula\n",
    "supervised = RFormula(formula=\"is_default ~ total_loan +year_of_loan+ interest +monthly_payment\")\n",
    "fittedRF = supervised.fit(df)\n",
    "preparedDF = fittedRF.transform(df)\n",
    "train, test = preparedDF.randomSplit([0.7, 0.3])\n",
    "train.show(5) #小数据集习惯性查看一下、我也不知道这习惯是好是坏\n",
    "\n"
   ]
  },
  {
   "cell_type": "code",
   "execution_count": 7,
   "metadata": {
    "scrolled": true
   },
   "outputs": [
    {
     "name": "stdout",
     "output_type": "stream",
     "text": [
      "+-----+----------+\n",
      "|label|prediction|\n",
      "+-----+----------+\n",
      "|  1.0|       0.0|\n",
      "|  0.0|       0.0|\n",
      "|  0.0|       0.0|\n",
      "|  0.0|       0.0|\n",
      "|  0.0|       0.0|\n",
      "|  0.0|       0.0|\n",
      "|  0.0|       0.0|\n",
      "|  0.0|       0.0|\n",
      "|  1.0|       0.0|\n",
      "|  0.0|       0.0|\n",
      "|  0.0|       0.0|\n",
      "|  0.0|       0.0|\n",
      "|  0.0|       0.0|\n",
      "|  0.0|       0.0|\n",
      "|  1.0|       0.0|\n",
      "|  0.0|       0.0|\n",
      "|  0.0|       0.0|\n",
      "|  1.0|       0.0|\n",
      "|  0.0|       0.0|\n",
      "|  0.0|       0.0|\n",
      "|  0.0|       0.0|\n",
      "|  0.0|       0.0|\n",
      "|  0.0|       0.0|\n",
      "|  1.0|       0.0|\n",
      "|  0.0|       0.0|\n",
      "|  0.0|       0.0|\n",
      "|  0.0|       0.0|\n",
      "|  0.0|       0.0|\n",
      "|  0.0|       0.0|\n",
      "|  1.0|       0.0|\n",
      "+-----+----------+\n",
      "only showing top 30 rows\n",
      "\n"
     ]
    }
   ],
   "source": [
    "lr = LogisticRegression(labelCol=\"label\",featuresCol=\"features\")\n",
    "fittedLR = lr.fit(train)\n",
    "fittedLR.transform(test).select(\"label\", \"prediction\").show(30)"
   ]
  },
  {
   "cell_type": "code",
   "execution_count": 10,
   "metadata": {
    "scrolled": true
   },
   "outputs": [
    {
     "name": "stdout",
     "output_type": "stream",
     "text": [
      "+--------------------+--------------------+\n",
      "|                 FPR|                 TPR|\n",
      "+--------------------+--------------------+\n",
      "|                 0.0|                 0.0|\n",
      "|0.002973217258931545|0.011567601156760116|\n",
      "|0.005298273155416013|0.020410602041060204|\n",
      "| 0.00812282955140098| 0.03111780311178031|\n",
      "|0.011238761238761238|0.041920604192060416|\n",
      "| 0.01480067551496123| 0.05389450538945054|\n",
      "|0.017904714333285762| 0.06496020649602065|\n",
      "|0.020842252985110128| 0.07471140747114074|\n",
      "|0.024410113695827983| 0.08568150856815086|\n",
      "|  0.0278709385852243| 0.09524150952415095|\n",
      "|0.028340706912135482| 0.09672330967233096|\n",
      "| 0.03218210361067504| 0.10845821084582108|\n",
      "| 0.03608296465439323|  0.1190937119093712|\n",
      "| 0.04019789734075448| 0.12901221290122128|\n",
      "| 0.04418795490224062|  0.1401735140173514|\n",
      "|0.048861852433281006| 0.15200401520040152|\n",
      "|0.053024356595785166| 0.16220931622093163|\n",
      "| 0.05753175396032539| 0.17420711742071174|\n",
      "|0.061872651158365446| 0.18424511842451186|\n",
      "|  0.0662135483564055| 0.19531081953108195|\n",
      "+--------------------+--------------------+\n",
      "only showing top 20 rows\n",
      "\n",
      "areaUnderROC: 0.6910865982114023\n"
     ]
    }
   ],
   "source": [
    "trainingSummary = fittedLR.summary\n",
    "trainingSummary.roc.show()\n",
    "print(\"areaUnderROC: \" + str(trainingSummary.areaUnderROC))\n"
   ]
  },
  {
   "cell_type": "code",
   "execution_count": 30,
   "metadata": {},
   "outputs": [
    {
     "name": "stdout",
     "output_type": "stream",
     "text": [
      "0.7977797779777978\n"
     ]
    }
   ],
   "source": [
    "test_result = fittedLR.transform(test).select(\"label\", \"prediction\")\n",
    "TT = test_result.where(\"label=1 and prediction=1\").count()\n",
    "TF = test_result.where(\"label=0 and prediction=0\").count()\n",
    "total = test_result.count()\n",
    "accuracy = (TT+TF)/total\n",
    "print(accuracy)"
   ]
  },
  {
   "cell_type": "code",
   "execution_count": null,
   "metadata": {},
   "outputs": [],
   "source": []
  }
 ],
 "metadata": {
  "kernelspec": {
   "display_name": "Python 3",
   "language": "python",
   "name": "python3"
  },
  "language_info": {
   "codemirror_mode": {
    "name": "ipython",
    "version": 3
   },
   "file_extension": ".py",
   "mimetype": "text/x-python",
   "name": "python",
   "nbconvert_exporter": "python",
   "pygments_lexer": "ipython3",
   "version": "3.7.6"
  }
 },
 "nbformat": 4,
 "nbformat_minor": 4
}
